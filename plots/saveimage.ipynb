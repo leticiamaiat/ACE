{
 "cells": [
  {
   "cell_type": "code",
   "execution_count": 42,
   "metadata": {},
   "outputs": [],
   "source": [
    "from PIL import Image\n",
    "\n",
    "def combine_images(image1_path, image2_path, output_path):\n",
    "    # Open the two images\n",
    "    image1 = Image.open(image1_path)\n",
    "    image2 = Image.open(image2_path)\n",
    "\n",
    "    # Get the dimensions of the images\n",
    "    width1, height1 = image1.size\n",
    "    width2, height2 = image2.size\n",
    "\n",
    "    # Defina a nova largura total como a soma das larguras das imagens\n",
    "    total_width = width1 + width2 + 60  # Ajuste conforme necessário\n",
    "\n",
    "    # Calcule a altura total para as imagens combinadas\n",
    "    total_height = max(height1, height2)\n",
    "\n",
    "    # Crie uma nova imagem com as dimensões totais\n",
    "    combined_image = Image.new('RGB', (total_width, total_height))\n",
    "\n",
    "    # Cole a primeira imagem mais à direita\n",
    "    combined_image.paste(image1, (0, (total_height - height1) // 2))\n",
    "    \n",
    "    # Cole a segunda imagem à direita da primeira\n",
    "    combined_image.paste(image2, ((width1 + 30), (total_height - height2) // 2))\n",
    "\n",
    "    # Salve a imagem combinada\n",
    "    combined_image.save(output_path)\n",
    "\n",
    "# Exemplo de uso\n",
    "image1_path = './groundxaerial/rodada01/botafogoxmadu_01.png'\n",
    "image2_path = './interxclear/rodada01/botafogoxmadu_01.png'\n",
    "output_path = './combined/rodada01/botafogoxmadu_01.png'\n",
    "\n",
    "combine_images(image1_path, image2_path, output_path)\n"
   ]
  },
  {
   "cell_type": "code",
   "execution_count": null,
   "metadata": {},
   "outputs": [],
   "source": []
  }
 ],
 "metadata": {
  "kernelspec": {
   "display_name": "camp",
   "language": "python",
   "name": "python3"
  },
  "language_info": {
   "codemirror_mode": {
    "name": "ipython",
    "version": 3
   },
   "file_extension": ".py",
   "mimetype": "text/x-python",
   "name": "python",
   "nbconvert_exporter": "python",
   "pygments_lexer": "ipython3",
   "version": "3.9.18"
  }
 },
 "nbformat": 4,
 "nbformat_minor": 2
}
