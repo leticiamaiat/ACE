{
 "cells": [
  {
   "cell_type": "code",
   "execution_count": 1,
   "metadata": {},
   "outputs": [
    {
     "name": "stdout",
     "output_type": "stream",
     "text": [
      "As imagens foram combinadas e salvas em: ladolado.png\n"
     ]
    }
   ],
   "source": [
    "from PIL import Image\n",
    "\n",
    "def combinar_imagens(imagem1_path, imagem2_path, imagem_saida_path):\n",
    "    # Abrir as imagens\n",
    "    imagem1 = Image.open(imagem1_path)\n",
    "    imagem2 = Image.open(imagem2_path)\n",
    "\n",
    "    # Obter as dimensões das imagens\n",
    "    largura_imagem1, altura_imagem1 = imagem1.size\n",
    "    largura_imagem2, altura_imagem2 = imagem2.size\n",
    "\n",
    "    # Calcular a largura total da imagem combinada\n",
    "    largura_total = largura_imagem1 + largura_imagem2\n",
    "\n",
    "    # Criar uma nova imagem com a largura total e altura máxima entre as duas imagens\n",
    "    imagem_combinada = Image.new('RGB', (largura_total, max(altura_imagem1, altura_imagem2)))\n",
    "\n",
    "    # Colocar a primeira imagem na nova imagem\n",
    "    imagem_combinada.paste(imagem1, (0, 0))\n",
    "\n",
    "    # Colocar a segunda imagem ao lado da primeira\n",
    "    imagem_combinada.paste(imagem2, (largura_imagem1, 0))\n",
    "\n",
    "    # Salvar a imagem combinada\n",
    "    imagem_combinada.save(imagem_saida_path)\n",
    "\n",
    "if __name__ == \"__main__\":\n",
    "    # Substitua os caminhos das imagens conforme necessário\n",
    "    imagem1_path = \"GroundxAerial_flamengoAudax.png\"\n",
    "    imagem2_path = \"interxclear_FlamengoAudax.png\"\n",
    "    imagem_saida_path = \"ladolado.png\"\n",
    "\n",
    "    # Chamar a função para combinar as imagens\n",
    "    combinar_imagens(imagem1_path, imagem2_path, imagem_saida_path)\n",
    "\n",
    "    print(f\"As imagens foram combinadas e salvas em: {imagem_saida_path}\")\n"
   ]
  }
 ],
 "metadata": {
  "kernelspec": {
   "display_name": "camp",
   "language": "python",
   "name": "python3"
  },
  "language_info": {
   "codemirror_mode": {
    "name": "ipython",
    "version": 3
   },
   "file_extension": ".py",
   "mimetype": "text/x-python",
   "name": "python",
   "nbconvert_exporter": "python",
   "pygments_lexer": "ipython3",
   "version": "3.9.18"
  }
 },
 "nbformat": 4,
 "nbformat_minor": 2
}
